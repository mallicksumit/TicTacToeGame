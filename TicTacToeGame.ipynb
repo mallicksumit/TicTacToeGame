{
 "cells": [
  {
   "cell_type": "code",
   "execution_count": 44,
   "metadata": {},
   "outputs": [],
   "source": [
    "def inputuser():\n",
    "    marker =' '\n",
    "    while marker!='X' and marker!='O':\n",
    "        marker = input(\"Please Pick a marker X or O  \")\n",
    "    if marker=='X':\n",
    "        Player1='X'\n",
    "        Player2='O'\n",
    "        \n",
    "    else:\n",
    "        Player1='O'\n",
    "        Player2='X'\n",
    "    return (Player1,Player2)    "
   ]
  },
  {
   "cell_type": "code",
   "execution_count": 45,
   "metadata": {},
   "outputs": [
    {
     "name": "stdout",
     "output_type": "stream",
     "text": [
      "Please Pick a marker X or O  X\n"
     ]
    },
    {
     "data": {
      "text/plain": [
       "('X', 'O')"
      ]
     },
     "execution_count": 45,
     "metadata": {},
     "output_type": "execute_result"
    }
   ],
   "source": [
    "inputuser()"
   ]
  },
  {
   "cell_type": "code",
   "execution_count": 46,
   "metadata": {},
   "outputs": [],
   "source": [
    "from IPython.display import clear_output\n",
    "\n",
    "def display(board):\n",
    "    clear_output()\n",
    "    print(board[7]+'|'+board[8]+'|'+board[9])\n",
    "    print('-|-|-')\n",
    "    print(board[4]+'|'+board[5]+'|'+board[6])\n",
    "    print('-|-|-')\n",
    "    print(board[1]+'|'+board[2]+'|'+board[3])"
   ]
  },
  {
   "cell_type": "code",
   "execution_count": 47,
   "metadata": {},
   "outputs": [],
   "source": [
    "board =[' ']*10"
   ]
  },
  {
   "cell_type": "code",
   "execution_count": 48,
   "metadata": {},
   "outputs": [
    {
     "name": "stdout",
     "output_type": "stream",
     "text": [
      " | | \n",
      "-|-|-\n",
      " | | \n",
      "-|-|-\n",
      " | | \n"
     ]
    }
   ],
   "source": [
    "display(board)"
   ]
  },
  {
   "cell_type": "code",
   "execution_count": 49,
   "metadata": {},
   "outputs": [],
   "source": [
    "def placemarker(board,marker,position):\n",
    "    board[position]=marker\n",
    "    "
   ]
  },
  {
   "cell_type": "code",
   "execution_count": 50,
   "metadata": {},
   "outputs": [
    {
     "name": "stdout",
     "output_type": "stream",
     "text": [
      "$| | \n",
      "-|-|-\n",
      " | | \n",
      "-|-|-\n",
      " | | \n"
     ]
    }
   ],
   "source": [
    "placemarker(board,'$',7)\n",
    "display(board)\n"
   ]
  },
  {
   "cell_type": "code",
   "execution_count": 51,
   "metadata": {},
   "outputs": [],
   "source": [
    "def win(board,marker):\n",
    "    #All rows same\n",
    "    return ((board[1]==marker and board[2]==marker and board[3]==marker)or\n",
    "    (board[4]==marker and board[5]==marker and board[6]==marker)or\n",
    "    (board[7]==marker and board[8]==marker and board[9]==marker)or\n",
    "    (board[7]==marker and board[4]==marker and board[1]==marker)or\n",
    "    (board[8]==marker and board[5]==marker and board[2]==marker)or\n",
    "    (board[9]==marker and board[6]==marker and board[3]==marker)or\n",
    "    (board[9]==marker and board[5]==marker and board[1]==marker)or\n",
    "    (board[7]==marker and board[5]==marker and board[3]==marker))\n",
    "        \n",
    "    "
   ]
  },
  {
   "cell_type": "code",
   "execution_count": 52,
   "metadata": {},
   "outputs": [
    {
     "data": {
      "text/plain": [
       "[' ', ' ', ' ', ' ', ' ', ' ', ' ', '$', ' ', ' ']"
      ]
     },
     "execution_count": 52,
     "metadata": {},
     "output_type": "execute_result"
    }
   ],
   "source": [
    "board"
   ]
  },
  {
   "cell_type": "code",
   "execution_count": 53,
   "metadata": {},
   "outputs": [],
   "source": [
    "myboard = ['#','1','0','1','0','1','0','1','0','1','0']"
   ]
  },
  {
   "cell_type": "code",
   "execution_count": 54,
   "metadata": {},
   "outputs": [
    {
     "name": "stdout",
     "output_type": "stream",
     "text": [
      "1|0|1\n",
      "-|-|-\n",
      "0|1|0\n",
      "-|-|-\n",
      "1|0|1\n"
     ]
    },
    {
     "data": {
      "text/plain": [
       "True"
      ]
     },
     "execution_count": 54,
     "metadata": {},
     "output_type": "execute_result"
    }
   ],
   "source": [
    "display(myboard)\n",
    "win(myboard,'1')\n"
   ]
  },
  {
   "cell_type": "code",
   "execution_count": 62,
   "metadata": {},
   "outputs": [],
   "source": [
    "import random\n",
    "def chooseplayer():\n",
    "    choice = random.randint(0,1)\n",
    "    if(choice == 0):\n",
    "        return 'Player1'\n",
    "    else:\n",
    "        return 'Player2'\n",
    "    "
   ]
  },
  {
   "cell_type": "code",
   "execution_count": 56,
   "metadata": {},
   "outputs": [],
   "source": [
    "def space_available(board,position):\n",
    "    return board[position]==' '"
   ]
  },
  {
   "cell_type": "code",
   "execution_count": 57,
   "metadata": {},
   "outputs": [],
   "source": [
    "def full_check(board):\n",
    "    for i in range(1,10):\n",
    "        if space_available(board,i):\n",
    "            return False\n",
    "        #Checking if the board is full or not if space_available() returns false meaning no space is empty returning true.\n",
    "    return True    "
   ]
  },
  {
   "cell_type": "code",
   "execution_count": 58,
   "metadata": {},
   "outputs": [],
   "source": [
    "def position_choice(board):\n",
    "    position=0\n",
    "    while position  not in [1,2,3,4,5,6,7,8,9] or not space_available(board,position):\n",
    "        position = int(input('Choose a postion:  (1-9)'))\n",
    "     \n",
    "    return position\n"
   ]
  },
  {
   "cell_type": "code",
   "execution_count": 59,
   "metadata": {},
   "outputs": [],
   "source": [
    "def replay():\n",
    "    choice = input('Want to play again : Y/N')\n",
    "    return choice.upper() == 'Y'\n",
    "    "
   ]
  },
  {
   "cell_type": "code",
   "execution_count": 60,
   "metadata": {},
   "outputs": [
    {
     "name": "stdout",
     "output_type": "stream",
     "text": [
      "Want to play again : Y/NY\n"
     ]
    },
    {
     "data": {
      "text/plain": [
       "True"
      ]
     },
     "execution_count": 60,
     "metadata": {},
     "output_type": "execute_result"
    }
   ],
   "source": [
    "replay()"
   ]
  },
  {
   "cell_type": "code",
   "execution_count": null,
   "metadata": {},
   "outputs": [
    {
     "name": "stdout",
     "output_type": "stream",
     "text": [
      "O|O|X\n",
      "-|-|-\n",
      "O|X|X\n",
      "-|-|-\n",
      "X|O|X\n",
      "Player 1 won the game\n",
      "Want to play again : Y/NY\n"
     ]
    }
   ],
   "source": [
    "print('Welcome to Tic Tac Toe')\n",
    "while True :\n",
    "    \n",
    "    #Setting up the board\n",
    "    the_board = [' ']*10\n",
    "    player1_marker,player2_marker = inputuser()\n",
    "    \n",
    "    #Who plays first\n",
    "    first = chooseplayer()\n",
    "    print(first + 'will go first')\n",
    "    \n",
    "    play = input('Ready?Y/N')\n",
    "    if play.upper() == 'Y':\n",
    "        game = True\n",
    "    else:\n",
    "        game =False\n",
    "    \n",
    "    \n",
    "    while game :\n",
    "        if first =='Player1': \n",
    "            #display the board\n",
    "            display(the_board)\n",
    "            #ask for a position\n",
    "            position =position_choice(the_board)\n",
    "            placemarker(the_board,player1_marker,position)\n",
    "            \n",
    "            if win(the_board,player1_marker):\n",
    "                display(the_board)\n",
    "                print('Player 1 won the game')\n",
    "                game = False\n",
    "            else:\n",
    "                if full_check(the_board):\n",
    "                    \n",
    "                    display(the_board)\n",
    "                    print('TIE GAME!!!!')\n",
    "                    game = False\n",
    "                else:\n",
    "                    first = 'Player2'\n",
    "    \n",
    "    \n",
    "        else:\n",
    "            if first =='Player2':\n",
    "                \n",
    "                \n",
    "            #display the board\n",
    "                display(the_board)\n",
    "            #ask for a position\n",
    "                position =position_choice(the_board)\n",
    "                placemarker(the_board,player2_marker,position)\n",
    "            \n",
    "                if win(the_board,player2_marker):\n",
    "                    display(the_board)\n",
    "                    print('Player 2 won the game')\n",
    "                    game = False\n",
    "                else:\n",
    "                    if full_check(the_board):\n",
    "                        \n",
    "                        display(the_board)\n",
    "                        print('TIE GAME!!!!')\n",
    "                        game = False\n",
    "                    else:\n",
    "                        first = 'Player1'\n",
    "     \n",
    "    \n",
    "    if not replay():\n",
    "        break"
   ]
  },
  {
   "cell_type": "code",
   "execution_count": null,
   "metadata": {},
   "outputs": [],
   "source": []
  }
 ],
 "metadata": {
  "kernelspec": {
   "display_name": "Python 3",
   "language": "python",
   "name": "python3"
  }
 },
 "nbformat": 4,
 "nbformat_minor": 2
}
